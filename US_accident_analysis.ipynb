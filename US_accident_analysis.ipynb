{
 "cells": [
  {
   "cell_type": "markdown",
   "id": "b9fe2ef6",
   "metadata": {},
   "source": [
    "# US Accident Exploratory Data Analysis\n",
    "\n",
    "Todo - talk about EDA todo - talk about dataset (source, what it contains, how it will be usefull)\n",
    "     #kaggle\n",
    "     #information about accidents\n",
    "     #can be useful to prevent accidents"
   ]
  },
  {
   "cell_type": "code",
   "execution_count": 4,
   "id": "60478b24",
   "metadata": {},
   "outputs": [],
   "source": [
    "import pandas as pd\n",
    "import numpy as np\n",
    "import matplotlib.pyplot as plt\n",
    "import seaborn as sns"
   ]
  },
  {
   "cell_type": "markdown",
   "id": "5fbb09b6",
   "metadata": {},
   "source": [
    "## Data Preparation and Cleaning\n",
    "     1. Look at some information about the data and the columns.\n",
    "     2. Fix any missing or incorrect value."
   ]
  },
  {
   "cell_type": "code",
   "execution_count": 5,
   "id": "0cb8949d",
   "metadata": {},
   "outputs": [],
   "source": [
    "data_filename = \"C:/Users/Lenovo/Desktop/notebook/US_Accidents_Dec20.csv/US_Accidents_Dec20.csv\"\n",
    "df = pd.read_csv(data_filename)"
   ]
  },
  {
   "cell_type": "code",
   "execution_count": 6,
   "id": "96626547",
   "metadata": {},
   "outputs": [
    {
     "data": {
      "text/html": [
       "<div>\n",
       "<style scoped>\n",
       "    .dataframe tbody tr th:only-of-type {\n",
       "        vertical-align: middle;\n",
       "    }\n",
       "\n",
       "    .dataframe tbody tr th {\n",
       "        vertical-align: top;\n",
       "    }\n",
       "\n",
       "    .dataframe thead th {\n",
       "        text-align: right;\n",
       "    }\n",
       "</style>\n",
       "<table border=\"1\" class=\"dataframe\">\n",
       "  <thead>\n",
       "    <tr style=\"text-align: right;\">\n",
       "      <th></th>\n",
       "      <th>ID</th>\n",
       "      <th>Source</th>\n",
       "      <th>TMC</th>\n",
       "      <th>Severity</th>\n",
       "      <th>Start_Time</th>\n",
       "      <th>End_Time</th>\n",
       "      <th>Start_Lat</th>\n",
       "      <th>Start_Lng</th>\n",
       "      <th>End_Lat</th>\n",
       "      <th>End_Lng</th>\n",
       "      <th>...</th>\n",
       "      <th>Roundabout</th>\n",
       "      <th>Station</th>\n",
       "      <th>Stop</th>\n",
       "      <th>Traffic_Calming</th>\n",
       "      <th>Traffic_Signal</th>\n",
       "      <th>Turning_Loop</th>\n",
       "      <th>Sunrise_Sunset</th>\n",
       "      <th>Civil_Twilight</th>\n",
       "      <th>Nautical_Twilight</th>\n",
       "      <th>Astronomical_Twilight</th>\n",
       "    </tr>\n",
       "  </thead>\n",
       "  <tbody>\n",
       "    <tr>\n",
       "      <th>0</th>\n",
       "      <td>A-1</td>\n",
       "      <td>MapQuest</td>\n",
       "      <td>201.0</td>\n",
       "      <td>3</td>\n",
       "      <td>2016-02-08 05:46:00</td>\n",
       "      <td>2016-02-08 11:00:00</td>\n",
       "      <td>39.865147</td>\n",
       "      <td>-84.058723</td>\n",
       "      <td>NaN</td>\n",
       "      <td>NaN</td>\n",
       "      <td>...</td>\n",
       "      <td>False</td>\n",
       "      <td>False</td>\n",
       "      <td>False</td>\n",
       "      <td>False</td>\n",
       "      <td>False</td>\n",
       "      <td>False</td>\n",
       "      <td>Night</td>\n",
       "      <td>Night</td>\n",
       "      <td>Night</td>\n",
       "      <td>Night</td>\n",
       "    </tr>\n",
       "    <tr>\n",
       "      <th>1</th>\n",
       "      <td>A-2</td>\n",
       "      <td>MapQuest</td>\n",
       "      <td>201.0</td>\n",
       "      <td>2</td>\n",
       "      <td>2016-02-08 06:07:59</td>\n",
       "      <td>2016-02-08 06:37:59</td>\n",
       "      <td>39.928059</td>\n",
       "      <td>-82.831184</td>\n",
       "      <td>NaN</td>\n",
       "      <td>NaN</td>\n",
       "      <td>...</td>\n",
       "      <td>False</td>\n",
       "      <td>False</td>\n",
       "      <td>False</td>\n",
       "      <td>False</td>\n",
       "      <td>False</td>\n",
       "      <td>False</td>\n",
       "      <td>Night</td>\n",
       "      <td>Night</td>\n",
       "      <td>Night</td>\n",
       "      <td>Day</td>\n",
       "    </tr>\n",
       "    <tr>\n",
       "      <th>2</th>\n",
       "      <td>A-3</td>\n",
       "      <td>MapQuest</td>\n",
       "      <td>201.0</td>\n",
       "      <td>2</td>\n",
       "      <td>2016-02-08 06:49:27</td>\n",
       "      <td>2016-02-08 07:19:27</td>\n",
       "      <td>39.063148</td>\n",
       "      <td>-84.032608</td>\n",
       "      <td>NaN</td>\n",
       "      <td>NaN</td>\n",
       "      <td>...</td>\n",
       "      <td>False</td>\n",
       "      <td>False</td>\n",
       "      <td>False</td>\n",
       "      <td>False</td>\n",
       "      <td>True</td>\n",
       "      <td>False</td>\n",
       "      <td>Night</td>\n",
       "      <td>Night</td>\n",
       "      <td>Day</td>\n",
       "      <td>Day</td>\n",
       "    </tr>\n",
       "    <tr>\n",
       "      <th>3</th>\n",
       "      <td>A-4</td>\n",
       "      <td>MapQuest</td>\n",
       "      <td>201.0</td>\n",
       "      <td>3</td>\n",
       "      <td>2016-02-08 07:23:34</td>\n",
       "      <td>2016-02-08 07:53:34</td>\n",
       "      <td>39.747753</td>\n",
       "      <td>-84.205582</td>\n",
       "      <td>NaN</td>\n",
       "      <td>NaN</td>\n",
       "      <td>...</td>\n",
       "      <td>False</td>\n",
       "      <td>False</td>\n",
       "      <td>False</td>\n",
       "      <td>False</td>\n",
       "      <td>False</td>\n",
       "      <td>False</td>\n",
       "      <td>Night</td>\n",
       "      <td>Day</td>\n",
       "      <td>Day</td>\n",
       "      <td>Day</td>\n",
       "    </tr>\n",
       "    <tr>\n",
       "      <th>4</th>\n",
       "      <td>A-5</td>\n",
       "      <td>MapQuest</td>\n",
       "      <td>201.0</td>\n",
       "      <td>2</td>\n",
       "      <td>2016-02-08 07:39:07</td>\n",
       "      <td>2016-02-08 08:09:07</td>\n",
       "      <td>39.627781</td>\n",
       "      <td>-84.188354</td>\n",
       "      <td>NaN</td>\n",
       "      <td>NaN</td>\n",
       "      <td>...</td>\n",
       "      <td>False</td>\n",
       "      <td>False</td>\n",
       "      <td>False</td>\n",
       "      <td>False</td>\n",
       "      <td>True</td>\n",
       "      <td>False</td>\n",
       "      <td>Day</td>\n",
       "      <td>Day</td>\n",
       "      <td>Day</td>\n",
       "      <td>Day</td>\n",
       "    </tr>\n",
       "  </tbody>\n",
       "</table>\n",
       "<p>5 rows × 49 columns</p>\n",
       "</div>"
      ],
      "text/plain": [
       "    ID    Source    TMC  Severity           Start_Time             End_Time  \\\n",
       "0  A-1  MapQuest  201.0         3  2016-02-08 05:46:00  2016-02-08 11:00:00   \n",
       "1  A-2  MapQuest  201.0         2  2016-02-08 06:07:59  2016-02-08 06:37:59   \n",
       "2  A-3  MapQuest  201.0         2  2016-02-08 06:49:27  2016-02-08 07:19:27   \n",
       "3  A-4  MapQuest  201.0         3  2016-02-08 07:23:34  2016-02-08 07:53:34   \n",
       "4  A-5  MapQuest  201.0         2  2016-02-08 07:39:07  2016-02-08 08:09:07   \n",
       "\n",
       "   Start_Lat  Start_Lng  End_Lat  End_Lng  ...  Roundabout Station   Stop  \\\n",
       "0  39.865147 -84.058723      NaN      NaN  ...       False   False  False   \n",
       "1  39.928059 -82.831184      NaN      NaN  ...       False   False  False   \n",
       "2  39.063148 -84.032608      NaN      NaN  ...       False   False  False   \n",
       "3  39.747753 -84.205582      NaN      NaN  ...       False   False  False   \n",
       "4  39.627781 -84.188354      NaN      NaN  ...       False   False  False   \n",
       "\n",
       "  Traffic_Calming Traffic_Signal Turning_Loop Sunrise_Sunset Civil_Twilight  \\\n",
       "0           False          False        False          Night          Night   \n",
       "1           False          False        False          Night          Night   \n",
       "2           False           True        False          Night          Night   \n",
       "3           False          False        False          Night            Day   \n",
       "4           False           True        False            Day            Day   \n",
       "\n",
       "  Nautical_Twilight Astronomical_Twilight  \n",
       "0             Night                 Night  \n",
       "1             Night                   Day  \n",
       "2               Day                   Day  \n",
       "3               Day                   Day  \n",
       "4               Day                   Day  \n",
       "\n",
       "[5 rows x 49 columns]"
      ]
     },
     "execution_count": 6,
     "metadata": {},
     "output_type": "execute_result"
    }
   ],
   "source": [
    "df.head()\n"
   ]
  },
  {
   "cell_type": "code",
   "execution_count": 7,
   "id": "2e688aa4",
   "metadata": {},
   "outputs": [
    {
     "data": {
      "text/plain": [
       "Index(['ID', 'Source', 'TMC', 'Severity', 'Start_Time', 'End_Time',\n",
       "       'Start_Lat', 'Start_Lng', 'End_Lat', 'End_Lng', 'Distance(mi)',\n",
       "       'Description', 'Number', 'Street', 'Side', 'City', 'County', 'State',\n",
       "       'Zipcode', 'Country', 'Timezone', 'Airport_Code', 'Weather_Timestamp',\n",
       "       'Temperature(F)', 'Wind_Chill(F)', 'Humidity(%)', 'Pressure(in)',\n",
       "       'Visibility(mi)', 'Wind_Direction', 'Wind_Speed(mph)',\n",
       "       'Precipitation(in)', 'Weather_Condition', 'Amenity', 'Bump', 'Crossing',\n",
       "       'Give_Way', 'Junction', 'No_Exit', 'Railway', 'Roundabout', 'Station',\n",
       "       'Stop', 'Traffic_Calming', 'Traffic_Signal', 'Turning_Loop',\n",
       "       'Sunrise_Sunset', 'Civil_Twilight', 'Nautical_Twilight',\n",
       "       'Astronomical_Twilight'],\n",
       "      dtype='object')"
      ]
     },
     "execution_count": 7,
     "metadata": {},
     "output_type": "execute_result"
    }
   ],
   "source": [
    "df.columns"
   ]
  },
  {
   "cell_type": "code",
   "execution_count": 8,
   "id": "99c5576f",
   "metadata": {},
   "outputs": [
    {
     "name": "stdout",
     "output_type": "stream",
     "text": [
      "<class 'pandas.core.frame.DataFrame'>\n",
      "RangeIndex: 4232541 entries, 0 to 4232540\n",
      "Data columns (total 49 columns):\n",
      " #   Column                 Dtype  \n",
      "---  ------                 -----  \n",
      " 0   ID                     object \n",
      " 1   Source                 object \n",
      " 2   TMC                    float64\n",
      " 3   Severity               int64  \n",
      " 4   Start_Time             object \n",
      " 5   End_Time               object \n",
      " 6   Start_Lat              float64\n",
      " 7   Start_Lng              float64\n",
      " 8   End_Lat                float64\n",
      " 9   End_Lng                float64\n",
      " 10  Distance(mi)           float64\n",
      " 11  Description            object \n",
      " 12  Number                 float64\n",
      " 13  Street                 object \n",
      " 14  Side                   object \n",
      " 15  City                   object \n",
      " 16  County                 object \n",
      " 17  State                  object \n",
      " 18  Zipcode                object \n",
      " 19  Country                object \n",
      " 20  Timezone               object \n",
      " 21  Airport_Code           object \n",
      " 22  Weather_Timestamp      object \n",
      " 23  Temperature(F)         float64\n",
      " 24  Wind_Chill(F)          float64\n",
      " 25  Humidity(%)            float64\n",
      " 26  Pressure(in)           float64\n",
      " 27  Visibility(mi)         float64\n",
      " 28  Wind_Direction         object \n",
      " 29  Wind_Speed(mph)        float64\n",
      " 30  Precipitation(in)      float64\n",
      " 31  Weather_Condition      object \n",
      " 32  Amenity                bool   \n",
      " 33  Bump                   bool   \n",
      " 34  Crossing               bool   \n",
      " 35  Give_Way               bool   \n",
      " 36  Junction               bool   \n",
      " 37  No_Exit                bool   \n",
      " 38  Railway                bool   \n",
      " 39  Roundabout             bool   \n",
      " 40  Station                bool   \n",
      " 41  Stop                   bool   \n",
      " 42  Traffic_Calming        bool   \n",
      " 43  Traffic_Signal         bool   \n",
      " 44  Turning_Loop           bool   \n",
      " 45  Sunrise_Sunset         object \n",
      " 46  Civil_Twilight         object \n",
      " 47  Nautical_Twilight      object \n",
      " 48  Astronomical_Twilight  object \n",
      "dtypes: bool(13), float64(14), int64(1), object(21)\n",
      "memory usage: 1.2+ GB\n"
     ]
    }
   ],
   "source": [
    "df.info()"
   ]
  },
  {
   "cell_type": "code",
   "execution_count": 9,
   "id": "4ee967c0",
   "metadata": {},
   "outputs": [
    {
     "data": {
      "text/html": [
       "<div>\n",
       "<style scoped>\n",
       "    .dataframe tbody tr th:only-of-type {\n",
       "        vertical-align: middle;\n",
       "    }\n",
       "\n",
       "    .dataframe tbody tr th {\n",
       "        vertical-align: top;\n",
       "    }\n",
       "\n",
       "    .dataframe thead th {\n",
       "        text-align: right;\n",
       "    }\n",
       "</style>\n",
       "<table border=\"1\" class=\"dataframe\">\n",
       "  <thead>\n",
       "    <tr style=\"text-align: right;\">\n",
       "      <th></th>\n",
       "      <th>TMC</th>\n",
       "      <th>Severity</th>\n",
       "      <th>Start_Lat</th>\n",
       "      <th>Start_Lng</th>\n",
       "      <th>End_Lat</th>\n",
       "      <th>End_Lng</th>\n",
       "      <th>Distance(mi)</th>\n",
       "      <th>Number</th>\n",
       "      <th>Temperature(F)</th>\n",
       "      <th>Wind_Chill(F)</th>\n",
       "      <th>Humidity(%)</th>\n",
       "      <th>Pressure(in)</th>\n",
       "      <th>Visibility(mi)</th>\n",
       "      <th>Wind_Speed(mph)</th>\n",
       "      <th>Precipitation(in)</th>\n",
       "    </tr>\n",
       "  </thead>\n",
       "  <tbody>\n",
       "    <tr>\n",
       "      <th>count</th>\n",
       "      <td>2.716477e+06</td>\n",
       "      <td>4.232541e+06</td>\n",
       "      <td>4.232541e+06</td>\n",
       "      <td>4.232541e+06</td>\n",
       "      <td>1.516064e+06</td>\n",
       "      <td>1.516064e+06</td>\n",
       "      <td>4.232541e+06</td>\n",
       "      <td>1.544592e+06</td>\n",
       "      <td>4.142641e+06</td>\n",
       "      <td>2.336540e+06</td>\n",
       "      <td>4.137074e+06</td>\n",
       "      <td>4.156157e+06</td>\n",
       "      <td>4.133873e+06</td>\n",
       "      <td>3.753215e+06</td>\n",
       "      <td>2.166952e+06</td>\n",
       "    </tr>\n",
       "    <tr>\n",
       "      <th>mean</th>\n",
       "      <td>2.083517e+02</td>\n",
       "      <td>2.305035e+00</td>\n",
       "      <td>3.639782e+01</td>\n",
       "      <td>-9.546420e+01</td>\n",
       "      <td>3.690061e+01</td>\n",
       "      <td>-9.859901e+01</td>\n",
       "      <td>3.357021e-01</td>\n",
       "      <td>6.141507e+03</td>\n",
       "      <td>6.147799e+01</td>\n",
       "      <td>5.489319e+01</td>\n",
       "      <td>6.567422e+01</td>\n",
       "      <td>2.969371e+01</td>\n",
       "      <td>9.111991e+00</td>\n",
       "      <td>7.903433e+00</td>\n",
       "      <td>1.244719e-02</td>\n",
       "    </tr>\n",
       "    <tr>\n",
       "      <th>std</th>\n",
       "      <td>2.124413e+01</td>\n",
       "      <td>5.332261e-01</td>\n",
       "      <td>4.964404e+00</td>\n",
       "      <td>1.735319e+01</td>\n",
       "      <td>5.165629e+00</td>\n",
       "      <td>1.849590e+01</td>\n",
       "      <td>1.602143e+00</td>\n",
       "      <td>1.492268e+04</td>\n",
       "      <td>1.852586e+01</td>\n",
       "      <td>2.272355e+01</td>\n",
       "      <td>2.272342e+01</td>\n",
       "      <td>8.639260e-01</td>\n",
       "      <td>2.817582e+00</td>\n",
       "      <td>5.330998e+00</td>\n",
       "      <td>1.637154e-01</td>\n",
       "    </tr>\n",
       "    <tr>\n",
       "      <th>min</th>\n",
       "      <td>2.000000e+02</td>\n",
       "      <td>1.000000e+00</td>\n",
       "      <td>2.455527e+01</td>\n",
       "      <td>-1.246238e+02</td>\n",
       "      <td>2.457011e+01</td>\n",
       "      <td>-1.244978e+02</td>\n",
       "      <td>0.000000e+00</td>\n",
       "      <td>0.000000e+00</td>\n",
       "      <td>-8.900000e+01</td>\n",
       "      <td>-8.900000e+01</td>\n",
       "      <td>1.000000e+00</td>\n",
       "      <td>0.000000e+00</td>\n",
       "      <td>0.000000e+00</td>\n",
       "      <td>0.000000e+00</td>\n",
       "      <td>0.000000e+00</td>\n",
       "    </tr>\n",
       "    <tr>\n",
       "      <th>25%</th>\n",
       "      <td>2.010000e+02</td>\n",
       "      <td>2.000000e+00</td>\n",
       "      <td>3.352058e+01</td>\n",
       "      <td>-1.173570e+02</td>\n",
       "      <td>3.385420e+01</td>\n",
       "      <td>-1.182077e+02</td>\n",
       "      <td>0.000000e+00</td>\n",
       "      <td>8.980000e+02</td>\n",
       "      <td>4.900000e+01</td>\n",
       "      <td>3.800000e+01</td>\n",
       "      <td>4.900000e+01</td>\n",
       "      <td>2.964000e+01</td>\n",
       "      <td>1.000000e+01</td>\n",
       "      <td>4.600000e+00</td>\n",
       "      <td>0.000000e+00</td>\n",
       "    </tr>\n",
       "    <tr>\n",
       "      <th>50%</th>\n",
       "      <td>2.010000e+02</td>\n",
       "      <td>2.000000e+00</td>\n",
       "      <td>3.582542e+01</td>\n",
       "      <td>-9.002078e+01</td>\n",
       "      <td>3.735134e+01</td>\n",
       "      <td>-9.437987e+01</td>\n",
       "      <td>0.000000e+00</td>\n",
       "      <td>2.890000e+03</td>\n",
       "      <td>6.300000e+01</td>\n",
       "      <td>5.800000e+01</td>\n",
       "      <td>6.800000e+01</td>\n",
       "      <td>2.993000e+01</td>\n",
       "      <td>1.000000e+01</td>\n",
       "      <td>7.000000e+00</td>\n",
       "      <td>0.000000e+00</td>\n",
       "    </tr>\n",
       "    <tr>\n",
       "      <th>75%</th>\n",
       "      <td>2.010000e+02</td>\n",
       "      <td>3.000000e+00</td>\n",
       "      <td>4.018313e+01</td>\n",
       "      <td>-8.084682e+01</td>\n",
       "      <td>4.072593e+01</td>\n",
       "      <td>-8.087449e+01</td>\n",
       "      <td>8.900000e-02</td>\n",
       "      <td>7.330000e+03</td>\n",
       "      <td>7.520000e+01</td>\n",
       "      <td>7.300000e+01</td>\n",
       "      <td>8.500000e+01</td>\n",
       "      <td>3.008000e+01</td>\n",
       "      <td>1.000000e+01</td>\n",
       "      <td>1.040000e+01</td>\n",
       "      <td>0.000000e+00</td>\n",
       "    </tr>\n",
       "    <tr>\n",
       "      <th>max</th>\n",
       "      <td>4.060000e+02</td>\n",
       "      <td>4.000000e+00</td>\n",
       "      <td>4.900220e+01</td>\n",
       "      <td>-6.711317e+01</td>\n",
       "      <td>4.907500e+01</td>\n",
       "      <td>-6.710924e+01</td>\n",
       "      <td>4.417500e+02</td>\n",
       "      <td>9.999997e+06</td>\n",
       "      <td>2.030000e+02</td>\n",
       "      <td>1.890000e+02</td>\n",
       "      <td>1.000000e+02</td>\n",
       "      <td>5.804000e+01</td>\n",
       "      <td>1.400000e+02</td>\n",
       "      <td>9.840000e+02</td>\n",
       "      <td>2.500000e+01</td>\n",
       "    </tr>\n",
       "  </tbody>\n",
       "</table>\n",
       "</div>"
      ],
      "text/plain": [
       "                TMC      Severity     Start_Lat     Start_Lng       End_Lat  \\\n",
       "count  2.716477e+06  4.232541e+06  4.232541e+06  4.232541e+06  1.516064e+06   \n",
       "mean   2.083517e+02  2.305035e+00  3.639782e+01 -9.546420e+01  3.690061e+01   \n",
       "std    2.124413e+01  5.332261e-01  4.964404e+00  1.735319e+01  5.165629e+00   \n",
       "min    2.000000e+02  1.000000e+00  2.455527e+01 -1.246238e+02  2.457011e+01   \n",
       "25%    2.010000e+02  2.000000e+00  3.352058e+01 -1.173570e+02  3.385420e+01   \n",
       "50%    2.010000e+02  2.000000e+00  3.582542e+01 -9.002078e+01  3.735134e+01   \n",
       "75%    2.010000e+02  3.000000e+00  4.018313e+01 -8.084682e+01  4.072593e+01   \n",
       "max    4.060000e+02  4.000000e+00  4.900220e+01 -6.711317e+01  4.907500e+01   \n",
       "\n",
       "            End_Lng  Distance(mi)        Number  Temperature(F)  \\\n",
       "count  1.516064e+06  4.232541e+06  1.544592e+06    4.142641e+06   \n",
       "mean  -9.859901e+01  3.357021e-01  6.141507e+03    6.147799e+01   \n",
       "std    1.849590e+01  1.602143e+00  1.492268e+04    1.852586e+01   \n",
       "min   -1.244978e+02  0.000000e+00  0.000000e+00   -8.900000e+01   \n",
       "25%   -1.182077e+02  0.000000e+00  8.980000e+02    4.900000e+01   \n",
       "50%   -9.437987e+01  0.000000e+00  2.890000e+03    6.300000e+01   \n",
       "75%   -8.087449e+01  8.900000e-02  7.330000e+03    7.520000e+01   \n",
       "max   -6.710924e+01  4.417500e+02  9.999997e+06    2.030000e+02   \n",
       "\n",
       "       Wind_Chill(F)   Humidity(%)  Pressure(in)  Visibility(mi)  \\\n",
       "count   2.336540e+06  4.137074e+06  4.156157e+06    4.133873e+06   \n",
       "mean    5.489319e+01  6.567422e+01  2.969371e+01    9.111991e+00   \n",
       "std     2.272355e+01  2.272342e+01  8.639260e-01    2.817582e+00   \n",
       "min    -8.900000e+01  1.000000e+00  0.000000e+00    0.000000e+00   \n",
       "25%     3.800000e+01  4.900000e+01  2.964000e+01    1.000000e+01   \n",
       "50%     5.800000e+01  6.800000e+01  2.993000e+01    1.000000e+01   \n",
       "75%     7.300000e+01  8.500000e+01  3.008000e+01    1.000000e+01   \n",
       "max     1.890000e+02  1.000000e+02  5.804000e+01    1.400000e+02   \n",
       "\n",
       "       Wind_Speed(mph)  Precipitation(in)  \n",
       "count     3.753215e+06       2.166952e+06  \n",
       "mean      7.903433e+00       1.244719e-02  \n",
       "std       5.330998e+00       1.637154e-01  \n",
       "min       0.000000e+00       0.000000e+00  \n",
       "25%       4.600000e+00       0.000000e+00  \n",
       "50%       7.000000e+00       0.000000e+00  \n",
       "75%       1.040000e+01       0.000000e+00  \n",
       "max       9.840000e+02       2.500000e+01  "
      ]
     },
     "execution_count": 9,
     "metadata": {},
     "output_type": "execute_result"
    }
   ],
   "source": [
    "df.describe() #this gives statistics of each numeric columns "
   ]
  },
  {
   "cell_type": "code",
   "execution_count": 10,
   "id": "1676db26",
   "metadata": {},
   "outputs": [],
   "source": [
    "#to get numeric datatype columns\n",
    "\n",
    "numerics = ['int16', 'int32', 'int64', 'float16', 'float32', 'float64']\n",
    "\n",
    "new_df = df.select_dtypes(include=numerics)"
   ]
  },
  {
   "cell_type": "code",
   "execution_count": 11,
   "id": "b5850a18",
   "metadata": {},
   "outputs": [
    {
     "data": {
      "text/html": [
       "<div>\n",
       "<style scoped>\n",
       "    .dataframe tbody tr th:only-of-type {\n",
       "        vertical-align: middle;\n",
       "    }\n",
       "\n",
       "    .dataframe tbody tr th {\n",
       "        vertical-align: top;\n",
       "    }\n",
       "\n",
       "    .dataframe thead th {\n",
       "        text-align: right;\n",
       "    }\n",
       "</style>\n",
       "<table border=\"1\" class=\"dataframe\">\n",
       "  <thead>\n",
       "    <tr style=\"text-align: right;\">\n",
       "      <th></th>\n",
       "      <th>TMC</th>\n",
       "      <th>Severity</th>\n",
       "      <th>Start_Lat</th>\n",
       "      <th>Start_Lng</th>\n",
       "      <th>End_Lat</th>\n",
       "      <th>End_Lng</th>\n",
       "      <th>Distance(mi)</th>\n",
       "      <th>Number</th>\n",
       "      <th>Temperature(F)</th>\n",
       "      <th>Wind_Chill(F)</th>\n",
       "      <th>Humidity(%)</th>\n",
       "      <th>Pressure(in)</th>\n",
       "      <th>Visibility(mi)</th>\n",
       "      <th>Wind_Speed(mph)</th>\n",
       "      <th>Precipitation(in)</th>\n",
       "    </tr>\n",
       "  </thead>\n",
       "  <tbody>\n",
       "    <tr>\n",
       "      <th>0</th>\n",
       "      <td>201.0</td>\n",
       "      <td>3</td>\n",
       "      <td>39.865147</td>\n",
       "      <td>-84.058723</td>\n",
       "      <td>NaN</td>\n",
       "      <td>NaN</td>\n",
       "      <td>0.010</td>\n",
       "      <td>NaN</td>\n",
       "      <td>36.9</td>\n",
       "      <td>NaN</td>\n",
       "      <td>91.0</td>\n",
       "      <td>29.68</td>\n",
       "      <td>10.0</td>\n",
       "      <td>NaN</td>\n",
       "      <td>0.02</td>\n",
       "    </tr>\n",
       "    <tr>\n",
       "      <th>1</th>\n",
       "      <td>201.0</td>\n",
       "      <td>2</td>\n",
       "      <td>39.928059</td>\n",
       "      <td>-82.831184</td>\n",
       "      <td>NaN</td>\n",
       "      <td>NaN</td>\n",
       "      <td>0.010</td>\n",
       "      <td>2584.0</td>\n",
       "      <td>37.9</td>\n",
       "      <td>NaN</td>\n",
       "      <td>100.0</td>\n",
       "      <td>29.65</td>\n",
       "      <td>10.0</td>\n",
       "      <td>NaN</td>\n",
       "      <td>0.00</td>\n",
       "    </tr>\n",
       "    <tr>\n",
       "      <th>2</th>\n",
       "      <td>201.0</td>\n",
       "      <td>2</td>\n",
       "      <td>39.063148</td>\n",
       "      <td>-84.032608</td>\n",
       "      <td>NaN</td>\n",
       "      <td>NaN</td>\n",
       "      <td>0.010</td>\n",
       "      <td>NaN</td>\n",
       "      <td>36.0</td>\n",
       "      <td>33.3</td>\n",
       "      <td>100.0</td>\n",
       "      <td>29.67</td>\n",
       "      <td>10.0</td>\n",
       "      <td>3.5</td>\n",
       "      <td>NaN</td>\n",
       "    </tr>\n",
       "    <tr>\n",
       "      <th>3</th>\n",
       "      <td>201.0</td>\n",
       "      <td>3</td>\n",
       "      <td>39.747753</td>\n",
       "      <td>-84.205582</td>\n",
       "      <td>NaN</td>\n",
       "      <td>NaN</td>\n",
       "      <td>0.010</td>\n",
       "      <td>NaN</td>\n",
       "      <td>35.1</td>\n",
       "      <td>31.0</td>\n",
       "      <td>96.0</td>\n",
       "      <td>29.64</td>\n",
       "      <td>9.0</td>\n",
       "      <td>4.6</td>\n",
       "      <td>NaN</td>\n",
       "    </tr>\n",
       "    <tr>\n",
       "      <th>4</th>\n",
       "      <td>201.0</td>\n",
       "      <td>2</td>\n",
       "      <td>39.627781</td>\n",
       "      <td>-84.188354</td>\n",
       "      <td>NaN</td>\n",
       "      <td>NaN</td>\n",
       "      <td>0.010</td>\n",
       "      <td>NaN</td>\n",
       "      <td>36.0</td>\n",
       "      <td>33.3</td>\n",
       "      <td>89.0</td>\n",
       "      <td>29.65</td>\n",
       "      <td>6.0</td>\n",
       "      <td>3.5</td>\n",
       "      <td>NaN</td>\n",
       "    </tr>\n",
       "    <tr>\n",
       "      <th>...</th>\n",
       "      <td>...</td>\n",
       "      <td>...</td>\n",
       "      <td>...</td>\n",
       "      <td>...</td>\n",
       "      <td>...</td>\n",
       "      <td>...</td>\n",
       "      <td>...</td>\n",
       "      <td>...</td>\n",
       "      <td>...</td>\n",
       "      <td>...</td>\n",
       "      <td>...</td>\n",
       "      <td>...</td>\n",
       "      <td>...</td>\n",
       "      <td>...</td>\n",
       "      <td>...</td>\n",
       "    </tr>\n",
       "    <tr>\n",
       "      <th>4232536</th>\n",
       "      <td>NaN</td>\n",
       "      <td>2</td>\n",
       "      <td>34.002480</td>\n",
       "      <td>-117.379360</td>\n",
       "      <td>33.99888</td>\n",
       "      <td>-117.37094</td>\n",
       "      <td>0.543</td>\n",
       "      <td>NaN</td>\n",
       "      <td>86.0</td>\n",
       "      <td>86.0</td>\n",
       "      <td>40.0</td>\n",
       "      <td>28.92</td>\n",
       "      <td>10.0</td>\n",
       "      <td>13.0</td>\n",
       "      <td>0.00</td>\n",
       "    </tr>\n",
       "    <tr>\n",
       "      <th>4232537</th>\n",
       "      <td>NaN</td>\n",
       "      <td>2</td>\n",
       "      <td>32.766960</td>\n",
       "      <td>-117.148060</td>\n",
       "      <td>32.76555</td>\n",
       "      <td>-117.15363</td>\n",
       "      <td>0.338</td>\n",
       "      <td>NaN</td>\n",
       "      <td>70.0</td>\n",
       "      <td>70.0</td>\n",
       "      <td>73.0</td>\n",
       "      <td>29.39</td>\n",
       "      <td>10.0</td>\n",
       "      <td>6.0</td>\n",
       "      <td>0.00</td>\n",
       "    </tr>\n",
       "    <tr>\n",
       "      <th>4232538</th>\n",
       "      <td>NaN</td>\n",
       "      <td>2</td>\n",
       "      <td>33.775450</td>\n",
       "      <td>-117.847790</td>\n",
       "      <td>33.77740</td>\n",
       "      <td>-117.85727</td>\n",
       "      <td>0.561</td>\n",
       "      <td>NaN</td>\n",
       "      <td>73.0</td>\n",
       "      <td>73.0</td>\n",
       "      <td>64.0</td>\n",
       "      <td>29.74</td>\n",
       "      <td>10.0</td>\n",
       "      <td>10.0</td>\n",
       "      <td>0.00</td>\n",
       "    </tr>\n",
       "    <tr>\n",
       "      <th>4232539</th>\n",
       "      <td>NaN</td>\n",
       "      <td>2</td>\n",
       "      <td>33.992460</td>\n",
       "      <td>-118.403020</td>\n",
       "      <td>33.98311</td>\n",
       "      <td>-118.39565</td>\n",
       "      <td>0.772</td>\n",
       "      <td>NaN</td>\n",
       "      <td>71.0</td>\n",
       "      <td>71.0</td>\n",
       "      <td>81.0</td>\n",
       "      <td>29.62</td>\n",
       "      <td>10.0</td>\n",
       "      <td>8.0</td>\n",
       "      <td>0.00</td>\n",
       "    </tr>\n",
       "    <tr>\n",
       "      <th>4232540</th>\n",
       "      <td>NaN</td>\n",
       "      <td>2</td>\n",
       "      <td>34.133930</td>\n",
       "      <td>-117.230920</td>\n",
       "      <td>34.13736</td>\n",
       "      <td>-117.23934</td>\n",
       "      <td>0.537</td>\n",
       "      <td>NaN</td>\n",
       "      <td>79.0</td>\n",
       "      <td>79.0</td>\n",
       "      <td>47.0</td>\n",
       "      <td>28.63</td>\n",
       "      <td>7.0</td>\n",
       "      <td>7.0</td>\n",
       "      <td>0.00</td>\n",
       "    </tr>\n",
       "  </tbody>\n",
       "</table>\n",
       "<p>4232541 rows × 15 columns</p>\n",
       "</div>"
      ],
      "text/plain": [
       "           TMC  Severity  Start_Lat   Start_Lng   End_Lat    End_Lng  \\\n",
       "0        201.0         3  39.865147  -84.058723       NaN        NaN   \n",
       "1        201.0         2  39.928059  -82.831184       NaN        NaN   \n",
       "2        201.0         2  39.063148  -84.032608       NaN        NaN   \n",
       "3        201.0         3  39.747753  -84.205582       NaN        NaN   \n",
       "4        201.0         2  39.627781  -84.188354       NaN        NaN   \n",
       "...        ...       ...        ...         ...       ...        ...   \n",
       "4232536    NaN         2  34.002480 -117.379360  33.99888 -117.37094   \n",
       "4232537    NaN         2  32.766960 -117.148060  32.76555 -117.15363   \n",
       "4232538    NaN         2  33.775450 -117.847790  33.77740 -117.85727   \n",
       "4232539    NaN         2  33.992460 -118.403020  33.98311 -118.39565   \n",
       "4232540    NaN         2  34.133930 -117.230920  34.13736 -117.23934   \n",
       "\n",
       "         Distance(mi)  Number  Temperature(F)  Wind_Chill(F)  Humidity(%)  \\\n",
       "0               0.010     NaN            36.9            NaN         91.0   \n",
       "1               0.010  2584.0            37.9            NaN        100.0   \n",
       "2               0.010     NaN            36.0           33.3        100.0   \n",
       "3               0.010     NaN            35.1           31.0         96.0   \n",
       "4               0.010     NaN            36.0           33.3         89.0   \n",
       "...               ...     ...             ...            ...          ...   \n",
       "4232536         0.543     NaN            86.0           86.0         40.0   \n",
       "4232537         0.338     NaN            70.0           70.0         73.0   \n",
       "4232538         0.561     NaN            73.0           73.0         64.0   \n",
       "4232539         0.772     NaN            71.0           71.0         81.0   \n",
       "4232540         0.537     NaN            79.0           79.0         47.0   \n",
       "\n",
       "         Pressure(in)  Visibility(mi)  Wind_Speed(mph)  Precipitation(in)  \n",
       "0               29.68            10.0              NaN               0.02  \n",
       "1               29.65            10.0              NaN               0.00  \n",
       "2               29.67            10.0              3.5                NaN  \n",
       "3               29.64             9.0              4.6                NaN  \n",
       "4               29.65             6.0              3.5                NaN  \n",
       "...               ...             ...              ...                ...  \n",
       "4232536         28.92            10.0             13.0               0.00  \n",
       "4232537         29.39            10.0              6.0               0.00  \n",
       "4232538         29.74            10.0             10.0               0.00  \n",
       "4232539         29.62            10.0              8.0               0.00  \n",
       "4232540         28.63             7.0              7.0               0.00  \n",
       "\n",
       "[4232541 rows x 15 columns]"
      ]
     },
     "execution_count": 11,
     "metadata": {},
     "output_type": "execute_result"
    }
   ],
   "source": [
    "new_df"
   ]
  },
  {
   "cell_type": "code",
   "execution_count": 12,
   "id": "79b8e835",
   "metadata": {},
   "outputs": [
    {
     "data": {
      "text/plain": [
       "TMC                  1516064\n",
       "Severity                   0\n",
       "Start_Lat                  0\n",
       "Start_Lng                  0\n",
       "End_Lat              2716477\n",
       "End_Lng              2716477\n",
       "Distance(mi)               0\n",
       "Number               2687949\n",
       "Temperature(F)         89900\n",
       "Wind_Chill(F)        1896001\n",
       "Humidity(%)            95467\n",
       "Pressure(in)           76384\n",
       "Visibility(mi)         98668\n",
       "Wind_Speed(mph)       479326\n",
       "Precipitation(in)    2065589\n",
       "dtype: int64"
      ]
     },
     "execution_count": 12,
     "metadata": {},
     "output_type": "execute_result"
    }
   ],
   "source": [
    "#to find total missing values\n",
    "new_df.isna().sum()"
   ]
  },
  {
   "cell_type": "code",
   "execution_count": 13,
   "id": "477b4393",
   "metadata": {},
   "outputs": [
    {
     "data": {
      "text/plain": [
       "End_Lat              64.180760\n",
       "End_Lng              64.180760\n",
       "Number               63.506745\n",
       "Precipitation(in)    48.802575\n",
       "Wind_Chill(F)        44.795809\n",
       "TMC                  35.819240\n",
       "Wind_Speed(mph)      11.324781\n",
       "Visibility(mi)        2.331176\n",
       "Humidity(%)           2.255548\n",
       "Temperature(F)        2.124020\n",
       "Pressure(in)          1.804684\n",
       "Severity              0.000000\n",
       "Start_Lat             0.000000\n",
       "Start_Lng             0.000000\n",
       "Distance(mi)          0.000000\n",
       "dtype: float64"
      ]
     },
     "execution_count": 13,
     "metadata": {},
     "output_type": "execute_result"
    }
   ],
   "source": [
    "#percentage of missing values per column, \n",
    "#we can drop those column whose percentage are more or around 50 as they might not be helpfull in predicting results\n",
    "new_df.isna().sum().sort_values(ascending=False) / len(df) *100"
   ]
  },
  {
   "cell_type": "code",
   "execution_count": 14,
   "id": "42a07605",
   "metadata": {},
   "outputs": [
    {
     "data": {
      "text/plain": [
       "End_Lng                  6.418076e-01\n",
       "End_Lat                  6.418076e-01\n",
       "Number                   6.350674e-01\n",
       "Precipitation(in)        4.880258e-01\n",
       "Wind_Chill(F)            4.479581e-01\n",
       "TMC                      3.581924e-01\n",
       "Wind_Speed(mph)          1.132478e-01\n",
       "Visibility(mi)           2.331176e-02\n",
       "Weather_Condition        2.324443e-02\n",
       "Humidity(%)              2.255548e-02\n",
       "Temperature(F)           2.124020e-02\n",
       "Wind_Direction           1.975433e-02\n",
       "Pressure(in)             1.804684e-02\n",
       "Weather_Timestamp        1.480057e-02\n",
       "Airport_Code             2.120003e-03\n",
       "Timezone                 1.090362e-03\n",
       "Zipcode                  3.052540e-04\n",
       "Sunrise_Sunset           3.331332e-05\n",
       "Civil_Twilight           3.331332e-05\n",
       "Nautical_Twilight        3.331332e-05\n",
       "Astronomical_Twilight    3.331332e-05\n",
       "City                     3.236826e-05\n",
       "Description              4.725294e-07\n",
       "Country                  0.000000e+00\n",
       "Junction                 0.000000e+00\n",
       "Severity                 0.000000e+00\n",
       "Start_Time               0.000000e+00\n",
       "End_Time                 0.000000e+00\n",
       "Turning_Loop             0.000000e+00\n",
       "Traffic_Signal           0.000000e+00\n",
       "Traffic_Calming          0.000000e+00\n",
       "Stop                     0.000000e+00\n",
       "Station                  0.000000e+00\n",
       "Roundabout               0.000000e+00\n",
       "Railway                  0.000000e+00\n",
       "No_Exit                  0.000000e+00\n",
       "Give_Way                 0.000000e+00\n",
       "State                    0.000000e+00\n",
       "Crossing                 0.000000e+00\n",
       "Bump                     0.000000e+00\n",
       "Amenity                  0.000000e+00\n",
       "Start_Lat                0.000000e+00\n",
       "Start_Lng                0.000000e+00\n",
       "Distance(mi)             0.000000e+00\n",
       "Street                   0.000000e+00\n",
       "Side                     0.000000e+00\n",
       "Source                   0.000000e+00\n",
       "County                   0.000000e+00\n",
       "ID                       0.000000e+00\n",
       "dtype: float64"
      ]
     },
     "execution_count": 14,
     "metadata": {},
     "output_type": "execute_result"
    }
   ],
   "source": [
    "missing_percentages = df.isna().sum().sort_values(ascending=False) / len(df)\n",
    "missing_percentages"
   ]
  },
  {
   "cell_type": "code",
   "execution_count": 15,
   "id": "4e6cc5f2",
   "metadata": {},
   "outputs": [
    {
     "data": {
      "text/plain": [
       "<AxesSubplot:>"
      ]
     },
     "execution_count": 15,
     "metadata": {},
     "output_type": "execute_result"
    },
    {
     "data": {
      "image/png": "[encoded data removed]",
      "text/plain": [
       "<Figure size 432x288 with 1 Axes>"
      ]
     },
     "metadata": {
      "needs_background": "light"
     },
     "output_type": "display_data"
    }
   ],
   "source": [
    "missing_percentages[missing_percentages !=0 ].plot(kind=\"barh\")"
   ]
  },
  {
   "cell_type": "markdown",
   "id": "9ab71aec",
   "metadata": {},
   "source": [
    "## Exploratory Analysis and Visualization\n",
    "\n",
    "1.City(shows the city in address record)\n",
    "2.Start time\n",
    "3.Start lat, Start Lng\n",
    "4.Temperature\n",
    "5.Weather_Condition(rain,snow,thunderstorm,fog,etc.)"
   ]
  },
  {
   "cell_type": "markdown",
   "id": "502d4bde",
   "metadata": {},
   "source": [
    "### City"
   ]
  },
  {
   "cell_type": "code",
   "execution_count": 16,
   "id": "fa6b6841",
   "metadata": {},
   "outputs": [
    {
     "data": {
      "text/plain": [
       "(12251,)"
      ]
     },
     "execution_count": 16,
     "metadata": {},
     "output_type": "execute_result"
    }
   ],
   "source": [
    "df.City.unique().shape"
   ]
  },
  {
   "cell_type": "code",
   "execution_count": 17,
   "id": "ef0f944e",
   "metadata": {},
   "outputs": [
    {
     "data": {
      "text/plain": [
       "Houston          114905\n",
       "Los Angeles       92701\n",
       "Charlotte         88887\n",
       "Dallas            77303\n",
       "Austin            70538\n",
       "Miami             63162\n",
       "Raleigh           52876\n",
       "Atlanta           46328\n",
       "Baton Rouge       42814\n",
       "Nashville         41850\n",
       "Orlando           39561\n",
       "Oklahoma City     39484\n",
       "Sacramento        38061\n",
       "Phoenix           32805\n",
       "Minneapolis       31781\n",
       "San Diego         29416\n",
       "Seattle           28004\n",
       "Richmond          27907\n",
       "San Antonio       27516\n",
       "Jacksonville      24009\n",
       "Name: City, dtype: int64"
      ]
     },
     "execution_count": 17,
     "metadata": {},
     "output_type": "execute_result"
    }
   ],
   "source": [
    "cities_by_accidents = df.City.value_counts()\n",
    "cities_by_accidents[:20]"
   ]
  },
  {
   "cell_type": "code",
   "execution_count": 18,
   "id": "e8563520",
   "metadata": {},
   "outputs": [
    {
     "data": {
      "text/plain": [
       "<AxesSubplot:>"
      ]
     },
     "execution_count": 18,
     "metadata": {},
     "output_type": "execute_result"
    },
    {
     "data": {
      "image/png": "[encoded data removed]",
      "text/plain": [
       "<Figure size 432x288 with 1 Axes>"
      ]
     },
     "metadata": {
      "needs_background": "light"
     },
     "output_type": "display_data"
    }
   ],
   "source": [
    "df.City.value_counts()[:20].plot(kind=\"barh\")"
   ]
  },
  {
   "cell_type": "code",
   "execution_count": 19,
   "id": "c381f706",
   "metadata": {},
   "outputs": [],
   "source": [
    "import seaborn as sns\n",
    "sns.set_style(\"darkgrid\")"
   ]
  },
  {
   "cell_type": "code",
   "execution_count": 20,
   "id": "e78196e7",
   "metadata": {},
   "outputs": [
    {
     "name": "stderr",
     "output_type": "stream",
     "text": [
      "C:\\Users\\Lenovo\\anaconda3\\lib\\site-packages\\seaborn\\distributions.py:2557: FutureWarning: `distplot` is a deprecated function and will be removed in a future version. Please adapt your code to use either `displot` (a figure-level function with similar flexibility) or `histplot` (an axes-level function for histograms).\n",
      "  warnings.warn(msg, FutureWarning)\n"
     ]
    },
    {
     "data": {
      "text/plain": [
       "<AxesSubplot:xlabel='City', ylabel='Density'>"
      ]
     },
     "execution_count": 20,
     "metadata": {},
     "output_type": "execute_result"
    },
    {
     "data": {
      "image/png": "[encoded data removed]",
      "text/plain": [
       "<Figure size 432x288 with 1 Axes>"
      ]
     },
     "metadata": {},
     "output_type": "display_data"
    }
   ],
   "source": [
    "sns.distplot(cities_by_accidents)"
   ]
  },
  {
   "cell_type": "code",
   "execution_count": 21,
   "id": "b7e2f669",
   "metadata": {},
   "outputs": [],
   "source": [
    "high_accident_cities = cities_by_accidents[cities_by_accidents >= 1000]\n",
    "low_accident_cities = cities_by_accidents[cities_by_accidents < 1000]"
   ]
  },
  {
   "cell_type": "code",
   "execution_count": 22,
   "id": "cf4aea28",
   "metadata": {},
   "outputs": [
    {
     "data": {
      "text/plain": [
       "704"
      ]
     },
     "execution_count": 22,
     "metadata": {},
     "output_type": "execute_result"
    }
   ],
   "source": [
    "len(high_accident_cities)"
   ]
  },
  {
   "cell_type": "code",
   "execution_count": 23,
   "id": "0cb9b09a",
   "metadata": {},
   "outputs": [
    {
     "data": {
      "text/plain": [
       "<AxesSubplot:xlabel='City', ylabel='Count'>"
      ]
     },
     "execution_count": 23,
     "metadata": {},
     "output_type": "execute_result"
    },
    {
     "data": {
      "image/png": "[encoded data removed]",
      "text/plain": [
       "<Figure size 432x288 with 1 Axes>"
      ]
     },
     "metadata": {},
     "output_type": "display_data"
    }
   ],
   "source": [
    "sns.histplot(high_accident_cities, log_scale = True)"
   ]
  },
  {
   "cell_type": "code",
   "execution_count": 24,
   "id": "7823cd2b",
   "metadata": {},
   "outputs": [
    {
     "data": {
      "text/plain": [
       "<AxesSubplot:xlabel='City', ylabel='Count'>"
      ]
     },
     "execution_count": 24,
     "metadata": {},
     "output_type": "execute_result"
    },
    {
     "data": {
      "image/png": "[encoded data removed]",
      "text/plain": [
       "<Figure size 432x288 with 1 Axes>"
      ]
     },
     "metadata": {},
     "output_type": "display_data"
    }
   ],
   "source": [
    "sns.histplot(low_accident_cities, log_scale = True)"
   ]
  },
  {
   "cell_type": "code",
   "execution_count": 25,
   "id": "5c3fe725",
   "metadata": {},
   "outputs": [
    {
     "data": {
      "text/plain": [
       "River Oaks       1\n",
       "Saint Landry     1\n",
       "Korbel           1\n",
       "Gladewater       1\n",
       "Gifford          1\n",
       "                ..\n",
       "Jeanerette       1\n",
       "Westmorland      1\n",
       "Mount Pulaski    1\n",
       "Two Rivers       1\n",
       "Orland Hills     1\n",
       "Name: City, Length: 1267, dtype: int64"
      ]
     },
     "execution_count": 25,
     "metadata": {},
     "output_type": "execute_result"
    }
   ],
   "source": [
    "cities_by_accidents[cities_by_accidents == 1]"
   ]
  },
  {
   "cell_type": "markdown",
   "id": "864ffc73",
   "metadata": {},
   "source": [
    "### Start_Time"
   ]
  },
  {
   "cell_type": "code",
   "execution_count": 26,
   "id": "8eaa9b2c",
   "metadata": {},
   "outputs": [],
   "source": [
    "df.Start_Time = pd.to_datetime(df.Start_Time)"
   ]
  },
  {
   "cell_type": "code",
   "execution_count": 27,
   "id": "3d0c30be",
   "metadata": {},
   "outputs": [
    {
     "data": {
      "text/plain": [
       "0           5\n",
       "1           6\n",
       "2           6\n",
       "3           7\n",
       "4           7\n",
       "           ..\n",
       "4232536    18\n",
       "4232537    19\n",
       "4232538    19\n",
       "4232539    19\n",
       "4232540    18\n",
       "Name: Start_Time, Length: 4232541, dtype: int64"
      ]
     },
     "execution_count": 27,
     "metadata": {},
     "output_type": "execute_result"
    }
   ],
   "source": [
    "df.Start_Time.dt.hour   #hour of the day"
   ]
  },
  {
   "cell_type": "markdown",
   "id": "c8f09d4f",
   "metadata": {},
   "source": [
    "#### Q. Which hour of the day has the highest accidents?"
   ]
  },
  {
   "cell_type": "code",
   "execution_count": 28,
   "id": "28a426df",
   "metadata": {},
   "outputs": [
    {
     "data": {
      "text/plain": [
       "<AxesSubplot:xlabel='Start_Time', ylabel='Count'>"
      ]
     },
     "execution_count": 28,
     "metadata": {},
     "output_type": "execute_result"
    },
    {
     "data": {
      "image/png": "[encoded data removed]",
      "text/plain": [
       "<Figure size 432x288 with 1 Axes>"
      ]
     },
     "metadata": {},
     "output_type": "display_data"
    }
   ],
   "source": [
    "sns.histplot(df.Start_Time.dt.hour, bins=24)"
   ]
  },
  {
   "cell_type": "markdown",
   "id": "aa9be279",
   "metadata": {},
   "source": [
    "A high percentage of accident happen between 6am to 10 am (probably people are in hurry due to work).\n",
    "Next higher time is 3pm to 6pm."
   ]
  },
  {
   "cell_type": "markdown",
   "id": "0d197dcd",
   "metadata": {},
   "source": [
    "#### Q. Which days of the week has higher accidents?"
   ]
  },
  {
   "cell_type": "code",
   "execution_count": 29,
   "id": "5f91eac6",
   "metadata": {},
   "outputs": [
    {
     "name": "stderr",
     "output_type": "stream",
     "text": [
      "C:\\Users\\Lenovo\\anaconda3\\lib\\site-packages\\seaborn\\distributions.py:2557: FutureWarning: `distplot` is a deprecated function and will be removed in a future version. Please adapt your code to use either `displot` (a figure-level function with similar flexibility) or `histplot` (an axes-level function for histograms).\n",
      "  warnings.warn(msg, FutureWarning)\n"
     ]
    },
    {
     "data": {
      "text/plain": [
       "<AxesSubplot:xlabel='Start_Time'>"
      ]
     },
     "execution_count": 29,
     "metadata": {},
     "output_type": "execute_result"
    },
    {
     "data": {
      "image/png": "[encoded data removed]",
      "text/plain": [
       "<Figure size 432x288 with 1 Axes>"
      ]
     },
     "metadata": {},
     "output_type": "display_data"
    }
   ],
   "source": [
    "sns.distplot(df.Start_Time.dt.dayofweek, bins=7, kde=False, norm_hist=True)"
   ]
  },
  {
   "cell_type": "markdown",
   "id": "c1c652a3",
   "metadata": {},
   "source": [
    "All the weekdays has almost same accidents, while the weekends has the least accidents."
   ]
  },
  {
   "cell_type": "markdown",
   "id": "6062ab71",
   "metadata": {},
   "source": [
    "#### Q. Is the distribution by hour the same on weekends as on weekdays?"
   ]
  },
  {
   "cell_type": "code",
   "execution_count": 30,
   "id": "964252e4",
   "metadata": {},
   "outputs": [
    {
     "name": "stderr",
     "output_type": "stream",
     "text": [
      "C:\\Users\\Lenovo\\anaconda3\\lib\\site-packages\\seaborn\\distributions.py:2557: FutureWarning: `distplot` is a deprecated function and will be removed in a future version. Please adapt your code to use either `displot` (a figure-level function with similar flexibility) or `histplot` (an axes-level function for histograms).\n",
      "  warnings.warn(msg, FutureWarning)\n"
     ]
    },
    {
     "data": {
      "text/plain": [
       "<AxesSubplot:xlabel='Start_Time'>"
      ]
     },
     "execution_count": 30,
     "metadata": {},
     "output_type": "execute_result"
    },
    {
     "data": {
      "image/png": "[encoded data removed]",
      "text/plain": [
       "<Figure size 432x288 with 1 Axes>"
      ]
     },
     "metadata": {},
     "output_type": "display_data"
    }
   ],
   "source": [
    "sunday_start_time = df.Start_Time[df.Start_Time.dt.dayofweek == 6 ]\n",
    "sns.distplot(sunday_start_time.dt.hour, bins=24, kde=False, norm_hist=True)"
   ]
  },
  {
   "cell_type": "code",
   "execution_count": 31,
   "id": "9d6f1bae",
   "metadata": {},
   "outputs": [
    {
     "name": "stderr",
     "output_type": "stream",
     "text": [
      "C:\\Users\\Lenovo\\anaconda3\\lib\\site-packages\\seaborn\\distributions.py:2557: FutureWarning: `distplot` is a deprecated function and will be removed in a future version. Please adapt your code to use either `displot` (a figure-level function with similar flexibility) or `histplot` (an axes-level function for histograms).\n",
      "  warnings.warn(msg, FutureWarning)\n"
     ]
    },
    {
     "data": {
      "text/plain": [
       "<AxesSubplot:xlabel='Start_Time'>"
      ]
     },
     "execution_count": 31,
     "metadata": {},
     "output_type": "execute_result"
    },
    {
     "data": {
      "image/png": "[encoded data removed]",
      "text/plain": [
       "<Figure size 432x288 with 1 Axes>"
      ]
     },
     "metadata": {},
     "output_type": "display_data"
    }
   ],
   "source": [
    "monday_start_time = df.Start_Time[df.Start_Time.dt.dayofweek == 0 ]\n",
    "sns.distplot(monday_start_time.dt.hour, bins=24, kde=False, norm_hist=True)"
   ]
  },
  {
   "cell_type": "markdown",
   "id": "4d9071ce",
   "metadata": {},
   "source": [
    "On weekends , the peak is in between 10am to 3pm unlike weekday(6am-8am)."
   ]
  },
  {
   "cell_type": "markdown",
   "id": "03a547ac",
   "metadata": {},
   "source": [
    "### Source of data"
   ]
  },
  {
   "cell_type": "code",
   "execution_count": 32,
   "id": "055023f6",
   "metadata": {},
   "outputs": [
    {
     "data": {
      "text/plain": [
       "<AxesSubplot:ylabel='Source'>"
      ]
     },
     "execution_count": 32,
     "metadata": {},
     "output_type": "execute_result"
    },
    {
     "data": {
      "image/png": "[encoded data removed]",
      "text/plain": [
       "<Figure size 432x288 with 1 Axes>"
      ]
     },
     "metadata": {},
     "output_type": "display_data"
    }
   ],
   "source": [
    "df.Source.value_counts().plot(kind='pie')"
   ]
  },
  {
   "cell_type": "code",
   "execution_count": 33,
   "id": "93e4198f",
   "metadata": {},
   "outputs": [
    {
     "name": "stderr",
     "output_type": "stream",
     "text": [
      "C:\\Users\\Lenovo\\anaconda3\\lib\\site-packages\\seaborn\\distributions.py:2557: FutureWarning: `distplot` is a deprecated function and will be removed in a future version. Please adapt your code to use either `displot` (a figure-level function with similar flexibility) or `histplot` (an axes-level function for histograms).\n",
      "  warnings.warn(msg, FutureWarning)\n"
     ]
    },
    {
     "data": {
      "text/plain": [
       "<AxesSubplot:xlabel='Start_Time'>"
      ]
     },
     "execution_count": 33,
     "metadata": {},
     "output_type": "execute_result"
    },
    {
     "data": {
      "image/png": "[encoded data removed]",
      "text/plain": [
       "<Figure size 432x288 with 1 Axes>"
      ]
     },
     "metadata": {},
     "output_type": "display_data"
    }
   ],
   "source": [
    "df_bing = df[df.Source == 'Bing']\n",
    "sns.distplot(df_bing.Start_Time.dt.month, bins = 12, kde = False, norm_hist = True)"
   ]
  },
  {
   "cell_type": "code",
   "execution_count": 34,
   "id": "77a58afa",
   "metadata": {},
   "outputs": [
    {
     "data": {
      "text/plain": [
       "<AxesSubplot:xlabel='Start_Time'>"
      ]
     },
     "execution_count": 34,
     "metadata": {},
     "output_type": "execute_result"
    },
    {
     "data": {
      "image/png": "[encoded data removed]",
      "text/plain": [
       "<Figure size 432x288 with 1 Axes>"
      ]
     },
     "metadata": {},
     "output_type": "display_data"
    }
   ],
   "source": [
    "df_MapQuest = df[df.Source == 'MapQuest']\n",
    "sns.distplot(df_MapQuest.Start_Time.dt.month, bins = 12, kde = False, norm_hist = True)"
   ]
  },
  {
   "cell_type": "markdown",
   "id": "627cc513",
   "metadata": {},
   "source": [
    "Consider excluding binge data,as it seems pretty missing out on values. We will still be left with roughly 67% of data."
   ]
  },
  {
   "cell_type": "markdown",
   "id": "96327ef6",
   "metadata": {},
   "source": [
    "### Start latitude and longitude"
   ]
  },
  {
   "cell_type": "code",
   "execution_count": 35,
   "id": "6aeda707",
   "metadata": {},
   "outputs": [
    {
     "data": {
      "text/plain": [
       "0          39.865147\n",
       "1          39.928059\n",
       "2          39.063148\n",
       "3          39.747753\n",
       "4          39.627781\n",
       "             ...    \n",
       "4232536    34.002480\n",
       "4232537    32.766960\n",
       "4232538    33.775450\n",
       "4232539    33.992460\n",
       "4232540    34.133930\n",
       "Name: Start_Lat, Length: 4232541, dtype: float64"
      ]
     },
     "execution_count": 35,
     "metadata": {},
     "output_type": "execute_result"
    }
   ],
   "source": [
    "df.Start_Lat"
   ]
  },
  {
   "cell_type": "code",
   "execution_count": 36,
   "id": "146f38fc",
   "metadata": {},
   "outputs": [
    {
     "data": {
      "text/plain": [
       "0          -84.058723\n",
       "1          -82.831184\n",
       "2          -84.032608\n",
       "3          -84.205582\n",
       "4          -84.188354\n",
       "              ...    \n",
       "4232536   -117.379360\n",
       "4232537   -117.148060\n",
       "4232538   -117.847790\n",
       "4232539   -118.403020\n",
       "4232540   -117.230920\n",
       "Name: Start_Lng, Length: 4232541, dtype: float64"
      ]
     },
     "execution_count": 36,
     "metadata": {},
     "output_type": "execute_result"
    }
   ],
   "source": [
    "df.Start_Lng"
   ]
  },
  {
   "cell_type": "code",
   "execution_count": 37,
   "id": "b4e6c142",
   "metadata": {},
   "outputs": [
    {
     "data": {
      "text/plain": [
       "<AxesSubplot:xlabel='Start_Lng', ylabel='Start_Lat'>"
      ]
     },
     "execution_count": 37,
     "metadata": {},
     "output_type": "execute_result"
    },
    {
     "data": {
      "image/png": "[encoded data removed]",
      "text/plain": [
       "<Figure size 432x288 with 1 Axes>"
      ]
     },
     "metadata": {},
     "output_type": "display_data"
    }
   ],
   "source": [
    "sns.scatterplot(x=df.Start_Lng, y=df.Start_Lat, size=0.001)"
   ]
  },
  {
   "cell_type": "code",
   "execution_count": null,
   "id": "ffd92ffa",
   "metadata": {},
   "outputs": [],
   "source": []
  }
 ],
 "metadata": {
  "kernelspec": {
   "display_name": "Python 3",
   "language": "python",
   "name": "python3"
  },
  "language_info": {
   "codemirror_mode": {
    "name": "ipython",
    "version": 3
   },
   "file_extension": ".py",
   "mimetype": "text/x-python",
   "name": "python",
   "nbconvert_exporter": "python",
   "pygments_lexer": "ipython3",
   "version": "3.8.8"
  }
 },
 "nbformat": 4,
 "nbformat_minor": 5
}
